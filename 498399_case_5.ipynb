{
 "cells": [
  {
   "cell_type": "code",
   "execution_count": 272,
   "id": "8eb55d91",
   "metadata": {},
   "outputs": [],
   "source": [
    "from gurobipy import *\n",
    "import numpy as np\n",
    "import matplotlib.pyplot as plt\n",
    "import random\n",
    "import itertools"
   ]
  },
  {
   "cell_type": "markdown",
   "id": "b620309f",
   "metadata": {
    "deletable": false,
    "editable": false,
    "nbgrader": {
     "cell_type": "markdown",
     "checksum": "cdb0dcb4b29d12f7da1fb358232d793f",
     "grade": false,
     "grade_id": "cell-16eb1b656ef908d0",
     "locked": true,
     "schema_version": 3,
     "solution": false,
     "task": false
    }
   },
   "source": [
    "## Case 5 - Gerrymandering\n",
    "\n",
    "Write an IP to choose the districts so as to maximize the number of districts that the democrats win.  The input to the function below can be interpreted as follows:\n",
    "\n",
    "- n: The region to be broken into districts will be an n by n square. Each square is labeled as its row (0,...,n-1) and column (0,...,n-1) number.\n",
    "- R_map/D_map: An n by n matrix with the number of Republicans/Democrats in each district\n",
    "- K: The number of districts to create\n",
    "- C: The allowable absolute population deviation between districts\n",
    "- D_Capitals: A dictionary that has a key for each district 0,...,K-1 whose value is the capital of each district that must be included within that district.\n",
    "\n",
    "\n",
    "Return the number districts the democrats won and dictionary with a key for each square, whose value is the assigned district.  "
   ]
  },
  {
   "cell_type": "code",
   "execution_count": 273,
   "id": "81fa6905",
   "metadata": {
    "deletable": false,
    "nbgrader": {
     "cell_type": "code",
     "checksum": "322c2745ecc578bd3085f2188c389adb",
     "grade": false,
     "grade_id": "cell-743ea6e7a1187cc2",
     "locked": false,
     "schema_version": 3,
     "solution": true,
     "task": false
    }
   },
   "outputs": [],
   "source": [
    "def Gerrymander_IP(n, R_map,D_map,K,C, D_Capitals):\n",
    "    m = Model()\n",
    "    z = {}\n",
    "    x = {}\n",
    "    d = {}\n",
    "    r = {}\n",
    "    M = 10000000\n",
    "    \n",
    "    for k in range(0,K):\n",
    "        for r in range(0,n):\n",
    "            for c in range(0,n):\n",
    "                x[(r,c,k)] = m.addVar(0,1,1,GRB.BINARY, name = \"x_%i_%i_%i\" %(r,c,k))\n",
    "    for k in range(0,K):\n",
    "        z[k] = m.addVar(0,1,0,GRB.BINARY,name = \"z_%i\" %k)\n",
    "        \n",
    "    for k in range(0,K):\n",
    "        m.addConstr(quicksum((x[(r,c,k)]*D_map[r,c]) - (x[(r,c,k)]*R_map[r,c])\\\n",
    "                             for r in range(0,n) for c in range(0,n)) <= M*z[k])\n",
    "        m.addConstr(quicksum((x[(r,c,k)]*R_map[r,c]) - (x[(r,c,k)]*D_map[r,c])\\\n",
    "                             for r in range(0,n) for c in range(0,n)) <= M*(1-z[k]))\n",
    "        for j in range(0,K):\n",
    "            m.addConstr(quicksum(x[(r,c,k)]*(R_map[r,c]+D_map[r,c]) for r in range(0,n) for c in range(0,n)) - \\\n",
    "                        quicksum(x[(r,c,j)]*(R_map[r,c]+D_map[r,c]) for r in range(0,n) for c in range(0,n))<= C)\n",
    "            m.addConstr(quicksum(x[(r,c,k)]*(R_map[r,c]+D_map[r,c]) for r in range(0,n) for c in range(0,n)) - \\\n",
    "                        quicksum(x[(r,c,j)]*(R_map[r,c]+D_map[r,c]) for r in range(0,n) for c in range(0,n))>= -C)\n",
    "    for r in range(0,n):\n",
    "        for c in range(0,n):\n",
    "            m.addConstr(quicksum(x[(r,c,k)] for k in range(0,K))==1)\n",
    "            \n",
    "    for k in range(0,K):\n",
    "        (rcap,ccap) = D_Capitals[k]\n",
    "        for r in range(0,n):\n",
    "            for c in range(0,n):\n",
    "                ew = \"\"\n",
    "                ns = \"\"\n",
    "                constraints = []\n",
    "                if r == rcap and c == ccap:\n",
    "                    m.addConstr(x[(r,c,k)] == 1)\n",
    "                if r > rcap:\n",
    "                    ns = \"n\"\n",
    "                elif r < rcap:\n",
    "                    ns = \"s\"\n",
    "                if c > ccap:\n",
    "                    ew = \"w\"\n",
    "                elif c < ccap:\n",
    "                    ew = \"e\"\n",
    "                if ns == \"n\" and r > 0:\n",
    "                    constraints.append(x[(r-1,c,k)])\n",
    "                if ns == \"s\" and r < n-1:\n",
    "                    constraints.append(x[(r+1,c,k)])\n",
    "                if ew == \"e\" and c < n-1:\n",
    "                    constraints.append(x[(r,c+1,k)])\n",
    "                if ew == \"w\" and c > 0:\n",
    "                    constraints.append(x[(r,c-1,k)])\n",
    "                if constraints:\n",
    "                    m.addConstr(quicksum(constraints) >= x[(r,c,k)])\n",
    "        \n",
    "    m.setObjective(quicksum(z[k] for k in range(0,K)),GRB.MAXIMIZE)\n",
    "    m.setParam(\"OutputFlag\", False) \n",
    "    m.optimize()\n",
    "    gerry_map = {}\n",
    "    for v in m.getVars():\n",
    "        if v.varName[0] == \"x\":\n",
    "            if v.X > 0.5:\n",
    "                if v.varName[3] == \"_\" and v.varName[5] == \"_\":\n",
    "                    r = int(v.varName[2])\n",
    "                    c = int(v.varName[4])\n",
    "                    k = int(v.varName[6])\n",
    "                if v.varName[3] != \"_\" and v.varName[6] == \"_\":\n",
    "                    r = int(v.varName[2]+v.varName[3])\n",
    "                    c = int(v.varName[5])\n",
    "                    k = int(v.varName[7])\n",
    "                if v.varName[3] != \"_\" and v.varName[6] != \"_\":\n",
    "                    r = int(v.varName[2]+v.varName[3])\n",
    "                    c = int(v.varName[5]+v.varName[6])\n",
    "                    k = int(v.varName[8])\n",
    "                if v.varName[3] == \"_\" and v.varName[5] != \"_\":\n",
    "                    r = int(v.varName[2])\n",
    "                    c = int(v.varName[4]+v.varName[5])\n",
    "                    k = int(v.varName[7])\n",
    "            gerry_map[r,c] = k\n",
    "\n",
    "    return gerry_map, m.objVal\n",
    "    \n",
    "        \n",
    "        "
   ]
  },
  {
   "cell_type": "code",
   "execution_count": 274,
   "id": "dffab138",
   "metadata": {
    "deletable": false,
    "editable": false,
    "nbgrader": {
     "cell_type": "code",
     "checksum": "5ea2fd6de1304f609ac809e0beae3263",
     "grade": true,
     "grade_id": "cell-d1e88c24932fa971",
     "locked": true,
     "points": 5,
     "schema_version": 3,
     "solution": false,
     "task": false
    },
    "slideshow": {
     "slide_type": "slide"
    }
   },
   "outputs": [],
   "source": [
    "np.random.seed(100)\n",
    "\n",
    "#Size of grid\n",
    "n = 10\n",
    "\n",
    "#Democratic map\n",
    "D_map = np.random.randint(50,100,size = (n,n))\n",
    "\n",
    "#Republican map \n",
    "R_map = np.random.randint(50,100,size = (n,n))\n",
    "\n",
    "#Number of districts\n",
    "K=4\n",
    "\n",
    "#Pop diff threshood\n",
    "C=5\n",
    "\n",
    "#Captials\n",
    "D_Capitals = {k:(min(n-1,(int(n/K)*(k+1))), min(n-1,int(n/K)*(K-k))) for k in range(K)}\n",
    "\n",
    "gerry_map, num_wins = Gerrymander_IP(n, R_map,D_map,K,C, D_Capitals)\n",
    "\n",
    "assert num_wins == 4\n",
    "\n"
   ]
  },
  {
   "cell_type": "code",
   "execution_count": 275,
   "id": "df5e01bc",
   "metadata": {
    "deletable": false,
    "editable": false,
    "nbgrader": {
     "cell_type": "code",
     "checksum": "d0dbfc3c81bef73478737bf215e21196",
     "grade": true,
     "grade_id": "cell-571ee2794e9d836c",
     "locked": true,
     "points": 5,
     "schema_version": 3,
     "solution": false,
     "task": false
    }
   },
   "outputs": [],
   "source": [
    "\n",
    "np.random.seed(110)\n",
    "\n",
    "#Size of grid\n",
    "n = 20\n",
    "\n",
    "#Democratic map\n",
    "D_map = np.random.randint(50,100,size = (n,n))\n",
    "\n",
    "#Republican map \n",
    "R_map = np.random.randint(50,100,size = (n,n))\n",
    "\n",
    "#Number of districts\n",
    "K=5\n",
    "\n",
    "#Pop diff threshood\n",
    "C=50\n",
    "\n",
    "#Captials\n",
    "D_Capitals = {k:(min(n-1,(int(n/K)*(k+1))), min(n-1,int(n/K)*(K-k))) for k in range(K)}\n",
    "\n",
    "gerry_map, num_wins = Gerrymander_IP(n, R_map,D_map,K,C, D_Capitals)\n",
    "\n",
    "pop_1 = sum([D_map[l] + R_map[l] for l in  gerry_map if gerry_map[l]==1])\n",
    "pop_2 = sum([D_map[l] + R_map[l] for l in  gerry_map if gerry_map[l]==2])\n",
    "pop_3 = sum([D_map[l] + R_map[l] for l in  gerry_map if gerry_map[l]==3])\n",
    "\n",
    "\n",
    "assert abs(pop_1-pop_2)<=C\n",
    "assert abs(pop_1 - pop_3)<=C"
   ]
  },
  {
   "cell_type": "markdown",
   "id": "bc446270",
   "metadata": {
    "deletable": false,
    "editable": false,
    "nbgrader": {
     "cell_type": "markdown",
     "checksum": "03d6b3473e0797634a4ab7c2501e6776",
     "grade": false,
     "grade_id": "cell-d3a9227ced70f195",
     "locked": true,
     "schema_version": 3,
     "solution": false,
     "task": false
    }
   },
   "source": [
    "# Help to check your answer\n",
    "\n",
    "If you create gerry_map as noted in the problem description, you can use the code below the visualize your choice of districts and check your answer."
   ]
  },
  {
   "cell_type": "code",
   "execution_count": 276,
   "id": "90a680ee",
   "metadata": {
    "deletable": false,
    "editable": false,
    "nbgrader": {
     "cell_type": "code",
     "checksum": "02cd90a5a3829973a8b7ecb8ca5fa22b",
     "grade": false,
     "grade_id": "cell-c85c4895020feb2e",
     "locked": true,
     "schema_version": 3,
     "solution": false,
     "task": false
    }
   },
   "outputs": [
    {
     "data": {
      "image/png": "[encoded data removed]",
      "text/plain": [
       "<Figure size 640x480 with 1 Axes>"
      ]
     },
     "metadata": {},
     "output_type": "display_data"
    }
   ],
   "source": [
    "%matplotlib inline\n",
    "\n",
    "\n",
    "\n",
    "fig,axis = plt.subplots()\n",
    "axis.set_xlim(0,n)\n",
    "axis.set_ylim(0,n)\n",
    "color_dict = {0: '#13D790', 1: '#2E958E', 2: '#ABBC04',\\\n",
    "              3: '#CD15AD', 4: '#B3A55C'}\n",
    "for loc in gerry_map:\n",
    "    if (loc[0], loc[1]) in list(D_Capitals.values()):\n",
    "        #Mark capitals with an X\n",
    "        axis.annotate(xy = [loc[0], loc[1]],\\\n",
    "                      color = color_dict[gerry_map[loc]] , text = \"X\")\n",
    "    else:\n",
    "        #Other districts get an o\n",
    "        axis.annotate(xy = [loc[0], loc[1]],color = color_dict[gerry_map[loc]] , text = \"o\")\n",
    "    "
   ]
  },
  {
   "cell_type": "code",
   "execution_count": null,
   "id": "d798fd77",
   "metadata": {},
   "outputs": [],
   "source": []
  }
 ],
 "metadata": {
  "kernelspec": {
   "display_name": "Python 3 (ipykernel)",
   "language": "python",
   "name": "python3"
  },
  "language_info": {
   "codemirror_mode": {
    "name": "ipython",
    "version": 3
   },
   "file_extension": ".py",
   "mimetype": "text/x-python",
   "name": "python",
   "nbconvert_exporter": "python",
   "pygments_lexer": "ipython3",
   "version": "3.9.13"
  }
 },
 "nbformat": 4,
 "nbformat_minor": 5
}
