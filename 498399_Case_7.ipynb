{
 "cells": [
  {
   "cell_type": "code",
   "execution_count": 1,
   "id": "de8935de",
   "metadata": {
    "deletable": false,
    "editable": false,
    "nbgrader": {
     "cell_type": "code",
     "checksum": "fdc5f9cbb217543cda3a6443d4b6ccc8",
     "grade": false,
     "grade_id": "cell-b125ba1dcc57b8c4",
     "locked": true,
     "schema_version": 3,
     "solution": false,
     "task": false
    }
   },
   "outputs": [],
   "source": [
    "import numpy as np\n",
    "from gurobipy import *\n",
    "import matplotlib.pyplot as plt\n",
    "import pandas as pd\n",
    "from itertools import combinations\n",
    "import matplotlib.lines as lines"
   ]
  },
  {
   "cell_type": "code",
   "execution_count": 2,
   "id": "6b082110",
   "metadata": {
    "deletable": false,
    "editable": false,
    "nbgrader": {
     "cell_type": "code",
     "checksum": "e4d3431ecca4e87133a76922c462a302",
     "grade": false,
     "grade_id": "cell-ba9b16a799d0248f",
     "locked": true,
     "schema_version": 3,
     "solution": false,
     "task": false
    }
   },
   "outputs": [],
   "source": [
    "def Generate_Instance(num_cities):\n",
    "    city_list = [np.random.uniform(0,10,2) for city in range(num_cities)]\n",
    "    student_list = [0] + [np.random.randint(10,50) for city in range(1,num_cities)]\n",
    "\n",
    "    return city_list, student_list\n",
    "\n",
    "def Get_Distance_Matrix(city_list):\n",
    "    \n",
    "    num_cities = len(city_list)\n",
    "    distance_matrix = [[0 for j in range(num_cities)] for i in range(num_cities)]\n",
    "    for i in range(num_cities):\n",
    "        for j in range(num_cities):\n",
    "            distance  = ((city_list[i][0] - city_list[j][0])**2 + (city_list[i][1] - city_list[j][1])**2)**0.5\n",
    "            distance_matrix[i][j] = distance\n",
    "    \n",
    "    \n",
    "    return distance_matrix"
   ]
  },
  {
   "cell_type": "markdown",
   "id": "24913df9",
   "metadata": {
    "deletable": false,
    "editable": false,
    "nbgrader": {
     "cell_type": "markdown",
     "checksum": "514ef22fb472d133ef9096add3380a21",
     "grade": false,
     "grade_id": "cell-068ce942c2b09e53",
     "locked": true,
     "schema_version": 3,
     "solution": false,
     "task": false
    }
   },
   "source": [
    "Solve the Bus Routing problem from Lecture 12.  Return the optimal objective value!"
   ]
  },
  {
   "cell_type": "code",
   "execution_count": 3,
   "id": "57edf4b8",
   "metadata": {
    "deletable": false,
    "nbgrader": {
     "cell_type": "code",
     "checksum": "e7722eb52b8f8b63906a4e9d121202c1",
     "grade": false,
     "grade_id": "cell-0a48c948533bafed",
     "locked": false,
     "schema_version": 3,
     "solution": true,
     "task": false
    }
   },
   "outputs": [],
   "source": [
    "\n",
    "\n",
    "def Bus_Routing(num_cities, city_list, student_list, distance_matrix, K_1, C_1, K_2, C_2, Q):\n",
    "    \n",
    "    m = Model()\n",
    "    x, y, z, q, u, ts, tsk = {}, {}, {}, {}, {}, {}, {}\n",
    "    K_total = K_1 + K_2\n",
    "    M = 10000\n",
    "\n",
    "    for k in range(K_total):\n",
    "        for i in range(1, num_cities):\n",
    "            ts[i] = m.addVar(0,GRB.INFINITY,0,GRB.CONTINUOUS)\n",
    "            tsk[(i, k)] = m.addVar(0,GRB.INFINITY,0,GRB.CONTINUOUS)\n",
    "            y[(i, k)] = m.addVar(0,1,0,GRB.BINARY)\n",
    "            z[i] = m.addVar(0, 1, 0, GRB.BINARY)\n",
    "            for j in range(1, num_cities):\n",
    "                q[(i, j)] = m.addVar(0, 1 if distance_matrix[i][j] <= 2 else 0, 0, GRB.BINARY)\n",
    "        for i in range(num_cities):\n",
    "            u[(i, k)] = m.addVar(0,GRB.INFINITY,0,GRB.CONTINUOUS)\n",
    "            for j in range(num_cities):\n",
    "                if i != j:\n",
    "                    x[(i, j, k)] = m.addVar(0,1,distance_matrix[i][j],GRB.BINARY)\n",
    "\n",
    "    m.addConstr(quicksum(z[i] for i in range(1, num_cities)) == Q)\n",
    "\n",
    "    for i in range(1, num_cities):\n",
    "        m.addConstr(quicksum(q[(i, j)] for j in range(1, num_cities)) == 1)\n",
    "        m.addConstr(quicksum(y[(i, k)] for k in range(K_total)) == z[i])\n",
    "        for j in range(1, num_cities):\n",
    "            m.addConstr(q[(i, j)] <= z[j])\n",
    "\n",
    "    for k in range(K_total):\n",
    "        for i in range(num_cities):\n",
    "            if i == 0:\n",
    "                m.addConstr(quicksum(x[(i, j, k)] for j in range(num_cities) if i != j) == 1)\n",
    "                m.addConstr(quicksum(x[(j, i, k)] for j in range(num_cities) if i != j) == 1)\n",
    "            else:\n",
    "                m.addConstr(quicksum(x[(i, j, k)] for j in range(num_cities) if i != j) == y[(i, k)])\n",
    "                m.addConstr(quicksum(x[(j, i, k)] for j in range(num_cities) if i != j) == y[(i, k)])\n",
    "        for i in range(1, num_cities):\n",
    "            m.addConstr(quicksum(q[(j, i)] * student_list[j] for j in range(1, num_cities)) == ts[i])\n",
    "            m.addConstr(tsk[(i, k)] >= ts[i] - M * (1 - y[(i, k)]))\n",
    "            for j in range(1, num_cities):\n",
    "                if i != j:\n",
    "                    m.addConstr(u[(i, k)] + distance_matrix[i][j] <= u[(j, k)] + M * (1 - x[(i, j, k)]))\n",
    "\n",
    "    for k in range(K_total):\n",
    "        if k < K_1:\n",
    "            m.addConstr(quicksum(tsk[(i, k)] for i in range(1, num_cities)) <= C_1)\n",
    "        else:\n",
    "            m.addConstr(quicksum(tsk[(i, k)] for i in range(1, num_cities)) <= C_2)\n",
    "\n",
    "    m.setParam(\"OutputFlag\", False)\n",
    "    m.optimize()\n",
    "    return m.objVal\n",
    "\n",
    "\n"
   ]
  },
  {
   "cell_type": "code",
   "execution_count": 4,
   "id": "c23464d0",
   "metadata": {
    "deletable": false,
    "editable": false,
    "nbgrader": {
     "cell_type": "code",
     "checksum": "605307ad352f9b373a4d854471c508cd",
     "grade": true,
     "grade_id": "cell-1bd7b18f97903479",
     "locked": true,
     "points": 5,
     "schema_version": 3,
     "solution": false,
     "task": false
    }
   },
   "outputs": [
    {
     "name": "stdout",
     "output_type": "stream",
     "text": [
      "Set parameter Username\n",
      "Academic license - for non-commercial use only - expires 2024-09-12\n"
     ]
    }
   ],
   "source": [
    "np.random.seed(100)\n",
    "num_cities = 11\n",
    "K_1=2\n",
    "C_1=175\n",
    "K_2=2\n",
    "C_2=125\n",
    "Q=8\n",
    "city_list, student_list = Generate_Instance(num_cities)\n",
    "distance_matrix = Get_Distance_Matrix(city_list)\n",
    "obj = Bus_Routing(num_cities, city_list, student_list, distance_matrix, K_1,C_1, K_2,C_2,Q)\n",
    "\n",
    "assert np.isclose(obj,39.5118)"
   ]
  },
  {
   "cell_type": "code",
   "execution_count": 5,
   "id": "96bb8795",
   "metadata": {
    "deletable": false,
    "editable": false,
    "nbgrader": {
     "cell_type": "code",
     "checksum": "65da77d410cc60d95e901dd3e3cc978d",
     "grade": true,
     "grade_id": "cell-f50f62c88ca33b12",
     "locked": true,
     "points": 5,
     "schema_version": 3,
     "solution": false,
     "task": false
    }
   },
   "outputs": [],
   "source": [
    "np.random.seed(100)\n",
    "num_cities =21\n",
    "K_1=2\n",
    "C_1=200\n",
    "K_2=2\n",
    "C_2=150\n",
    "Q=10\n",
    "city_list, student_list = Generate_Instance(num_cities)\n",
    "distance_matrix = Get_Distance_Matrix(city_list)\n",
    "obj = Bus_Routing(num_cities, city_list, student_list, distance_matrix, K_1,C_1, K_2,C_2,Q)\n",
    "\n",
    "assert np.isclose(obj,46.1440)"
   ]
  },
  {
   "cell_type": "code",
   "execution_count": 6,
   "id": "c7977961",
   "metadata": {
    "deletable": false,
    "editable": false,
    "nbgrader": {
     "cell_type": "code",
     "checksum": "de5bd00f25862a799702e57e90d87eb1",
     "grade": true,
     "grade_id": "cell-800569ad6a0c4a8f",
     "locked": true,
     "points": 5,
     "schema_version": 3,
     "solution": false,
     "task": false
    }
   },
   "outputs": [],
   "source": [
    "#this one may take a minute or two to run\n",
    "np.random.seed(100)\n",
    "num_cities =31\n",
    "K_1=1\n",
    "C_1=200\n",
    "K_2=3\n",
    "C_2=500\n",
    "Q=13\n",
    "city_list, student_list = Generate_Instance(num_cities)\n",
    "distance_matrix = Get_Distance_Matrix(city_list)\n",
    "obj = Bus_Routing(num_cities, city_list, student_list, distance_matrix, K_1,C_1, K_2,C_2,Q)\n",
    "\n",
    "assert np.isclose(obj,48.04449)"
   ]
  },
  {
   "cell_type": "code",
   "execution_count": null,
   "id": "f19cd41c",
   "metadata": {},
   "outputs": [],
   "source": []
  }
 ],
 "metadata": {
  "kernelspec": {
   "display_name": "Python 3 (ipykernel)",
   "language": "python",
   "name": "python3"
  },
  "language_info": {
   "codemirror_mode": {
    "name": "ipython",
    "version": 3
   },
   "file_extension": ".py",
   "mimetype": "text/x-python",
   "name": "python",
   "nbconvert_exporter": "python",
   "pygments_lexer": "ipython3",
   "version": "3.9.13"
  }
 },
 "nbformat": 4,
 "nbformat_minor": 5
}
