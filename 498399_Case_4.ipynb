{
 "cells": [
  {
   "cell_type": "code",
   "execution_count": 68,
   "metadata": {
    "deletable": false,
    "editable": false,
    "nbgrader": {
     "cell_type": "code",
     "checksum": "9189e02aed4ad571b06a1c0d47e1556b",
     "grade": false,
     "grade_id": "cell-e0d30a7d9b918f50",
     "locked": true,
     "schema_version": 3,
     "solution": false,
     "task": false
    }
   },
   "outputs": [],
   "source": [
    "import pandas as pd\n",
    "from gurobipy import *\n",
    "from datetime import timedelta"
   ]
  },
  {
   "cell_type": "markdown",
   "metadata": {
    "deletable": false,
    "editable": false,
    "nbgrader": {
     "cell_type": "markdown",
     "checksum": "aac5137ccba57b3b75ae505d4401f75c",
     "grade": false,
     "grade_id": "cell-38bb26887e979e23",
     "locked": true,
     "schema_version": 3,
     "solution": false,
     "task": false
    }
   },
   "source": [
    "\n",
    "\n",
    "This function reads in the historical arrival data from \"Data/Historical_Data.csv\", and returns a dataframe in which each cell as been replaced by the number of minutes past 8 am."
   ]
  },
  {
   "cell_type": "code",
   "execution_count": 69,
   "metadata": {
    "deletable": false,
    "editable": false,
    "nbgrader": {
     "cell_type": "code",
     "checksum": "30463a352f61c713f8f37885d978ca78",
     "grade": false,
     "grade_id": "cell-48a2b8385d0a2437",
     "locked": true,
     "schema_version": 3,
     "solution": false,
     "task": false
    }
   },
   "outputs": [],
   "source": [
    "def Read_Data():\n",
    "    \n",
    "    df = pd.read_csv(\"data/Historical_Data.csv\")\n",
    "    \n",
    "    for col in df.columns:\n",
    "        df[col] = pd.to_datetime(df[col]).apply(lambda x:\\\n",
    "                                    (x - (pd.Timestamp(x.date())\\\n",
    "                                + timedelta(hours=8))).seconds/60 )\n",
    "        \n",
    "   \n",
    "    return df\n",
    "    "
   ]
  },
  {
   "cell_type": "code",
   "execution_count": 70,
   "metadata": {
    "deletable": false,
    "editable": false,
    "nbgrader": {
     "cell_type": "code",
     "checksum": "d8ee78d092c36dff9d4b11180521f07f",
     "grade": false,
     "grade_id": "cell-4b060f28db3c7037",
     "locked": true,
     "schema_version": 3,
     "solution": false,
     "task": false
    }
   },
   "outputs": [
    {
     "data": {
      "text/html": [
       "<div>\n",
       "<style scoped>\n",
       "    .dataframe tbody tr th:only-of-type {\n",
       "        vertical-align: middle;\n",
       "    }\n",
       "\n",
       "    .dataframe tbody tr th {\n",
       "        vertical-align: top;\n",
       "    }\n",
       "\n",
       "    .dataframe thead th {\n",
       "        text-align: right;\n",
       "    }\n",
       "</style>\n",
       "<table border=\"1\" class=\"dataframe\">\n",
       "  <thead>\n",
       "    <tr style=\"text-align: right;\">\n",
       "      <th></th>\n",
       "      <th>start</th>\n",
       "      <th>stop_1</th>\n",
       "      <th>stop_2</th>\n",
       "      <th>stop_3</th>\n",
       "      <th>stop_4</th>\n",
       "      <th>stop_5</th>\n",
       "    </tr>\n",
       "  </thead>\n",
       "  <tbody>\n",
       "    <tr>\n",
       "      <th>0</th>\n",
       "      <td>0.0</td>\n",
       "      <td>4.0</td>\n",
       "      <td>14.0</td>\n",
       "      <td>33.0</td>\n",
       "      <td>39.0</td>\n",
       "      <td>52.0</td>\n",
       "    </tr>\n",
       "    <tr>\n",
       "      <th>1</th>\n",
       "      <td>0.0</td>\n",
       "      <td>5.0</td>\n",
       "      <td>14.0</td>\n",
       "      <td>35.0</td>\n",
       "      <td>41.0</td>\n",
       "      <td>52.0</td>\n",
       "    </tr>\n",
       "    <tr>\n",
       "      <th>2</th>\n",
       "      <td>0.0</td>\n",
       "      <td>5.0</td>\n",
       "      <td>16.0</td>\n",
       "      <td>34.0</td>\n",
       "      <td>42.0</td>\n",
       "      <td>54.0</td>\n",
       "    </tr>\n",
       "    <tr>\n",
       "      <th>3</th>\n",
       "      <td>0.0</td>\n",
       "      <td>3.0</td>\n",
       "      <td>13.0</td>\n",
       "      <td>32.0</td>\n",
       "      <td>40.0</td>\n",
       "      <td>53.0</td>\n",
       "    </tr>\n",
       "    <tr>\n",
       "      <th>4</th>\n",
       "      <td>0.0</td>\n",
       "      <td>6.0</td>\n",
       "      <td>16.0</td>\n",
       "      <td>36.0</td>\n",
       "      <td>43.0</td>\n",
       "      <td>54.0</td>\n",
       "    </tr>\n",
       "  </tbody>\n",
       "</table>\n",
       "</div>"
      ],
      "text/plain": [
       "   start  stop_1  stop_2  stop_3  stop_4  stop_5\n",
       "0    0.0     4.0    14.0    33.0    39.0    52.0\n",
       "1    0.0     5.0    14.0    35.0    41.0    52.0\n",
       "2    0.0     5.0    16.0    34.0    42.0    54.0\n",
       "3    0.0     3.0    13.0    32.0    40.0    53.0\n",
       "4    0.0     6.0    16.0    36.0    43.0    54.0"
      ]
     },
     "execution_count": 70,
     "metadata": {},
     "output_type": "execute_result"
    }
   ],
   "source": [
    "df = Read_Data()\n",
    "df.head()"
   ]
  },
  {
   "cell_type": "markdown",
   "metadata": {
    "deletable": false,
    "editable": false,
    "nbgrader": {
     "cell_type": "markdown",
     "checksum": "50029aed64d68b4fb26e31c69052698c",
     "grade": false,
     "grade_id": "cell-42ff661dc36e3b10",
     "locked": true,
     "schema_version": 3,
     "solution": false,
     "task": false
    }
   },
   "source": [
    "# Swiftly Scheduling\n",
    "\n",
    "Solve the IP to optimize the schedule, i.e. maximize the number of historical arrivals that would be considered on time (1 min early or 4 min late). Return the objective value and the first start time designated as afternoon (as the number of minutes past 8 am)."
   ]
  },
  {
   "cell_type": "code",
   "execution_count": 182,
   "metadata": {
    "deletable": false,
    "nbgrader": {
     "cell_type": "code",
     "checksum": "3636d43b06d0f34e139d04eb2b78ed06",
     "grade": false,
     "grade_id": "cell-09834e07e83e11e2",
     "locked": false,
     "schema_version": 3,
     "solution": true,
     "task": false
    }
   },
   "outputs": [],
   "source": [
    "\n",
    "def Optimize_Schedule():\n",
    "    df = Read_Data()\n",
    "    \n",
    "    M = 10000\n",
    "    stops = [1,2,3,4,5]\n",
    "    times = {5,8}\n",
    "    cutoffs = {}\n",
    "    cutoffs = df[\"start\"].unique().tolist()\n",
    "    vals = {}\n",
    "    \n",
    "    for c in cutoffs:\n",
    "        m = Model()\n",
    "        x = {}\n",
    "        y = {}\n",
    "        z = {}\n",
    "        for index in df.index:\n",
    "            for s in stops:\n",
    "                x[s] = m.addVar(0,GRB.INFINITY,0,GRB.CONTINUOUS)\n",
    "                y[s] = m.addVar(0,GRB.INFINITY,0,GRB.CONTINUOUS)\n",
    "                z[(s,index)] = m.addVar(0,1,1,GRB.BINARY)\n",
    "        for index in df.index:\n",
    "            for s in stops:\n",
    "                if df.loc[index,'start'] < c:\n",
    "                    m.addConstr(df.loc[index,f'stop_{s}'] - df.loc[index,'start'] - x[s] - 4 <= 4 * (1 - z[(s,index)]) * M)\n",
    "                    m.addConstr(df.loc[index,f'stop_{s}'] - df.loc[index,'start'] - x[s] + 1 >= -1 * (1 - z[(s,index)]) * M)\n",
    "                else:\n",
    "                    m.addConstr(df.loc[index,f'stop_{s}'] - df.loc[index,'start'] - y[s] - 4 <= 4 * (1 - z[(s,index)]) * M)\n",
    "                    m.addConstr(df.loc[index,f'stop_{s}'] - df.loc[index,'start'] - y[s] + 1 >= -1 * (1 - z[(s,index)]) * M)\n",
    "        m.setObjective(quicksum(z[(s,index)] for s in stops for index in df.index),GRB.MAXIMIZE)\n",
    "        m.setParam(\"OutputFlag\",False)\n",
    "        m.optimize()\n",
    "        vals[c] = m.objVal\n",
    "    \n",
    "    max_key = max(vals,key=vals.get)\n",
    "    max_value = vals[max_key]\n",
    "    print(max_value)\n",
    "    print(max_key)\n",
    "    \n",
    "    return max_value,max_key\n",
    "    \n",
    "    \n",
    "    "
   ]
  },
  {
   "cell_type": "code",
   "execution_count": 183,
   "metadata": {
    "deletable": false,
    "editable": false,
    "nbgrader": {
     "cell_type": "code",
     "checksum": "69e710134559b1425d3dfbd0a893a7cc",
     "grade": true,
     "grade_id": "cell-58114fe4011e2d37",
     "locked": true,
     "points": 15,
     "schema_version": 3,
     "solution": false,
     "task": false
    }
   },
   "outputs": [
    {
     "name": "stdout",
     "output_type": "stream",
     "text": [
      "1421.0\n",
      "255.0\n"
     ]
    }
   ],
   "source": [
    "#This might take a minute or two to run\n",
    "\n",
    "num_ot, last_morning = Optimize_Schedule()\n",
    "assert num_ot==1421\n",
    "assert last_morning == 255"
   ]
  },
  {
   "cell_type": "code",
   "execution_count": null,
   "metadata": {},
   "outputs": [],
   "source": []
  }
 ],
 "metadata": {
  "kernelspec": {
   "display_name": "Python 3 (ipykernel)",
   "language": "python",
   "name": "python3"
  },
  "language_info": {
   "codemirror_mode": {
    "name": "ipython",
    "version": 3
   },
   "file_extension": ".py",
   "mimetype": "text/x-python",
   "name": "python",
   "nbconvert_exporter": "python",
   "pygments_lexer": "ipython3",
   "version": "3.9.13"
  },
  "toc": {
   "nav_menu": {},
   "number_sections": true,
   "sideBar": true,
   "skip_h1_title": false,
   "toc_cell": false,
   "toc_position": {},
   "toc_section_display": "block",
   "toc_window_display": false
  }
 },
 "nbformat": 4,
 "nbformat_minor": 2
}
