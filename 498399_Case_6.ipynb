{
 "cells": [
  {
   "cell_type": "code",
   "execution_count": 58,
   "id": "19499c79",
   "metadata": {
    "deletable": false,
    "editable": false,
    "nbgrader": {
     "cell_type": "code",
     "checksum": "8cd902aa80912b62bacf2d0dc6ab9f0b",
     "grade": false,
     "grade_id": "cell-735866c57174be52",
     "locked": true,
     "schema_version": 3,
     "solution": false,
     "task": false
    }
   },
   "outputs": [],
   "source": [
    "import numpy as np\n",
    "from gurobipy import *\n",
    "import matplotlib.pyplot as plt\n",
    "import pandas as pd\n",
    "from itertools import combinations\n",
    "import matplotlib.lines as lines"
   ]
  },
  {
   "cell_type": "code",
   "execution_count": 59,
   "id": "17eaaca2",
   "metadata": {
    "deletable": false,
    "editable": false,
    "nbgrader": {
     "cell_type": "code",
     "checksum": "deefcd777cbb181e3a6b74e47a76d5b6",
     "grade": false,
     "grade_id": "cell-c8670265960e374f",
     "locked": true,
     "schema_version": 3,
     "solution": false,
     "task": false
    }
   },
   "outputs": [],
   "source": [
    "def Generate_Instance(num_cities):\n",
    "    \n",
    "    city_list = [np.random.uniform(0,50,2) for city in range(num_cities)]\n",
    "    \n",
    "    return city_list"
   ]
  },
  {
   "cell_type": "code",
   "execution_count": 60,
   "id": "1bb7558c",
   "metadata": {
    "deletable": false,
    "editable": false,
    "nbgrader": {
     "cell_type": "code",
     "checksum": "3afb59605dafb9e01859cdf87a982153",
     "grade": false,
     "grade_id": "cell-13505a7d12c8b5b8",
     "locked": true,
     "schema_version": 3,
     "solution": false,
     "task": false
    }
   },
   "outputs": [],
   "source": [
    "def Plot_Instance(city_list):\n",
    "    \n",
    "    fig, axis = plt.subplots()\n",
    "    df = pd.DataFrame({\"x\":[city_list[i][0] for i in range(len(city_list))],\\\n",
    "                      \"y\":[city_list[i][1] for i in range(len(city_list))]})\n",
    "    \n",
    "    df.plot(kind = \"scatter\", x= \"x\", y= \"y\", ax=axis)\n",
    "    return None\n",
    "\n",
    "def Plot_Instance_Solution(city_list, arcs):\n",
    "    \"\"\"\n",
    "    Will plot your solution for debugging.  \n",
    "    arcs is a list of lists where each inner list is the start and \n",
    "    end of trip taken.  So if x_{1,2}=1, then one element of arcs\n",
    "    should be [1,2].\n",
    "    \"\"\"\n",
    "    fig, axis = plt.subplots(figsize = (10,10))\n",
    "    df = pd.DataFrame({\"x\":[city_list[i][0] for i in range(len(city_list))],\\\n",
    "                      \"y\":[city_list[i][1] for i in range(len(city_list))]})\n",
    "    \n",
    "    df.plot(kind = \"scatter\", x= \"x\", y= \"y\", ax=axis)\n",
    "    \n",
    "    for arc in arcs:\n",
    "        start = arc[0]\n",
    "        end =arc[1]\n",
    "        \n",
    "        axis.add_artist(lines.Line2D([city_list[start][0],city_list[end][0]],\\\n",
    "                                     [city_list[start][1],city_list[end][1]]))\n",
    "        \n",
    "    return None"
   ]
  },
  {
   "cell_type": "code",
   "execution_count": 61,
   "id": "2bcf59f7",
   "metadata": {
    "deletable": false,
    "editable": false,
    "nbgrader": {
     "cell_type": "code",
     "checksum": "1c033b1bce565e7b5738ee24f7eac84c",
     "grade": false,
     "grade_id": "cell-59b797c410886f45",
     "locked": true,
     "schema_version": 3,
     "solution": false,
     "task": false
    }
   },
   "outputs": [],
   "source": [
    "def Get_Distance_Matrix(city_list):\n",
    "    num_cities = len(city_list)\n",
    "    distance_matrix = [[0 for j in range(num_cities)] for i in range(num_cities)]\n",
    "    for i in range(num_cities):\n",
    "        for j in range(num_cities):\n",
    "            if i!=j:\n",
    "                distance  = ((city_list[i][0] - city_list[j][0])**2 + (city_list[i][1] - city_list[j][1])**2)**0.5\n",
    "                distance_matrix[i][j] = distance\n",
    "    return distance_matrix\n",
    "            "
   ]
  },
  {
   "cell_type": "markdown",
   "id": "ded72f16",
   "metadata": {
    "deletable": false,
    "editable": false,
    "nbgrader": {
     "cell_type": "markdown",
     "checksum": "cc7c6a8044772c542e0a598826fe5524",
     "grade": false,
     "grade_id": "cell-6fcf8e5caf3fc12c",
     "locked": true,
     "schema_version": 3,
     "solution": false,
     "task": false
    }
   },
   "source": [
    "Code the constraint generation solution below.  You might find it useful to have a few helper functions. Just return the distance of the minimum distance tour. I have included the plotting functions just for fun and to help you debug."
   ]
  },
  {
   "cell_type": "code",
   "execution_count": 62,
   "id": "aa863255",
   "metadata": {
    "deletable": false,
    "nbgrader": {
     "cell_type": "code",
     "checksum": "1261d8fa9670bdfedaf7a123ec26fa4e",
     "grade": false,
     "grade_id": "cell-a0253f8d09c88daf",
     "locked": false,
     "schema_version": 3,
     "solution": true,
     "task": false
    }
   },
   "outputs": [],
   "source": [
    "\n",
    "\n",
    "def Solve_TSP_CG(num_cities, distance_matrix):\n",
    "    \n",
    "    subtour_list = []\n",
    "    max_len=0\n",
    "    while max_len<num_cities:\n",
    "        objVal, arcs = TSP_1(num_cities,distance_matrix,subtour_list)\n",
    "        subtour_adds = Find_Subtours(arcs,num_cities)\n",
    "        subtour_list.extend(subtour_adds)\n",
    "        max_len = (max([len(tour) for tour in subtour_list]))\n",
    "    return objVal\n",
    "\n",
    "def TSP_1(num_cities,distance_matrix,subtours):\n",
    "    m = Model()\n",
    "    x = {}\n",
    "    for i in range(num_cities):\n",
    "        for j in range(num_cities):\n",
    "            x[i,j] = m.addVar(vtype=GRB.BINARY, name=f\"x_{i}_{j}\")\n",
    "            if i==j:\n",
    "                m.addConstr(x[i,j] == 0)\n",
    "    for i in range(num_cities):\n",
    "        m.addConstr(quicksum(x[i,j] for j in range(num_cities)) == 1)\n",
    "        m.addConstr(quicksum(x[j,i] for j in range(num_cities)) == 1) \n",
    "    m.setObjective(quicksum(x[i,j]*distance_matrix[i][j] for i in range(num_cities) for j in range(num_cities)),GRB.MINIMIZE)\n",
    "    for subtour in subtours:\n",
    "        if len(subtour) < num_cities:\n",
    "            m.addConstr(quicksum(x[i, j] for i in subtour for j in subtour if i != j) <= len(subtour)-1)\n",
    "    m.setParam(\"OutputFlag\",False) \n",
    "    m.optimize()\n",
    "    if m.status == GRB.OPTIMAL:\n",
    "        arcs = [(i, j) for i in range(num_cities) for j in range(num_cities) if x[i, j].X > 0.5]\n",
    "    min_dist = float(m.objVal)\n",
    "    return min_dist, arcs\n",
    "\n",
    "def Find_Subtours(arcs, num_cities):\n",
    "    visited = [False] * num_cities\n",
    "    subtours = []\n",
    "    for start_city in range(num_cities):\n",
    "        if not visited[start_city]:\n",
    "            subtour = []\n",
    "            current_city = start_city\n",
    "            while not visited[current_city]:\n",
    "                subtour.append(current_city)\n",
    "                visited[current_city] = True\n",
    "                for next_city in range(num_cities):\n",
    "                    if (current_city, next_city) in arcs:\n",
    "                        current_city = next_city\n",
    "                        break\n",
    "            if len(subtour) > 1:\n",
    "                subtours.append(subtour)\n",
    "    return subtours\n",
    "    "
   ]
  },
  {
   "cell_type": "code",
   "execution_count": 63,
   "id": "3fd91661",
   "metadata": {
    "deletable": false,
    "editable": false,
    "nbgrader": {
     "cell_type": "code",
     "checksum": "61c0bec4dcbd6139e7078411761d8a7c",
     "grade": true,
     "grade_id": "cell-eb0ec4a50b43931e",
     "locked": true,
     "points": 5,
     "schema_version": 3,
     "solution": false,
     "task": false
    }
   },
   "outputs": [],
   "source": [
    "np.random.seed(137)\n",
    "num_cities =100\n",
    "city_list = Generate_Instance(num_cities)\n",
    "distance_matrix = Get_Distance_Matrix(city_list)\n",
    "obj_1 =Solve_TSP_CG(num_cities, distance_matrix)\n",
    "assert np.isclose(obj_1, 402.54)"
   ]
  },
  {
   "cell_type": "code",
   "execution_count": 64,
   "id": "76b50cd7",
   "metadata": {
    "deletable": false,
    "editable": false,
    "nbgrader": {
     "cell_type": "code",
     "checksum": "c72323102636b4fd07d555b879dd41f3",
     "grade": true,
     "grade_id": "cell-6ae53fdee89c0453",
     "locked": true,
     "points": 5,
     "schema_version": 3,
     "solution": false,
     "task": false
    }
   },
   "outputs": [],
   "source": [
    "#This one may take a minute or two to run\n",
    "np.random.seed(17)\n",
    "num_cities =150\n",
    "city_list = Generate_Instance(num_cities)\n",
    "distance_matrix = Get_Distance_Matrix(city_list)\n",
    "obj_1 =Solve_TSP_CG(num_cities, distance_matrix)\n",
    "assert np.isclose(obj_1, 457.36)"
   ]
  },
  {
   "cell_type": "code",
   "execution_count": null,
   "id": "061fa60e",
   "metadata": {},
   "outputs": [],
   "source": []
  }
 ],
 "metadata": {
  "kernelspec": {
   "display_name": "Python 3 (ipykernel)",
   "language": "python",
   "name": "python3"
  },
  "language_info": {
   "codemirror_mode": {
    "name": "ipython",
    "version": 3
   },
   "file_extension": ".py",
   "mimetype": "text/x-python",
   "name": "python",
   "nbconvert_exporter": "python",
   "pygments_lexer": "ipython3",
   "version": "3.9.13"
  },
  "toc": {
   "nav_menu": {},
   "number_sections": true,
   "sideBar": true,
   "skip_h1_title": false,
   "toc_cell": false,
   "toc_position": {},
   "toc_section_display": "block",
   "toc_window_display": false
  }
 },
 "nbformat": 4,
 "nbformat_minor": 5
}
